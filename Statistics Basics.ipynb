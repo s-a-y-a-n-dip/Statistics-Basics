{
 "cells": [
  {
   "cell_type": "code",
   "execution_count": 2,
   "id": "fc9d2478-4433-4e9b-abbc-daba7ed6ef65",
   "metadata": {},
   "outputs": [],
   "source": [
    "#Q1. Explain the different types of data (qualitative and quantitative) and provide examples of each. Discuss  nominal, ordinal, interval, and ratio scales.\n",
    "#ANS.\n",
    "#1. Types of Data :\n",
    "#A. Qualitative Data (Categorical Data)\n",
    "    #Definition: Non-numeric data that represents categories or labels.\n",
    "    #Examples:\n",
    "        #Eye color: Blue, Brown, Green\n",
    "        #Type of car: Sedan, SUV, Hatchback\n",
    "        #Marital status: Single, Married, Divorced\n",
    "#B. Quantitative Data (Numerical Data)\n",
    "    #Definition: Numeric data that can be measured or counted.\n",
    "    #Examples:\n",
    "        #Age: 21, 35, 60\n",
    "        #Height: 170 cm, 180 cm\n",
    "        #Income: $3000, $5000\n",
    "#2. Levels of Measurement (Scales)\n",
    "#A. Nominal Scale (Qualitative)\n",
    "    #Definition: Categories with no natural order or ranking.\n",
    "    #Characteristics:\n",
    "        #Only used to label variables.\n",
    "        #Cannot be ordered.\n",
    "    #Examples:\n",
    "        #Blood type: A, B, AB, O\n",
    "        #Gender: Male, Female, Other\n",
    "        #Country: India, USA, Japan\n",
    "#B. Ordinal Scale (Qualitative)\n",
    "    #Definition: Categories with a meaningful order, but intervals between values are not consistent.\n",
    "    #Characteristics:\n",
    "        #Rank-order is meaningful.\n",
    "        #Differences between ranks are not measurable.\n",
    "    #Examples:\n",
    "        #Education level: High School < Bachelor's < Master's < PhD\n",
    "        #Customer satisfaction: Poor < Fair < Good < Excellent\n",
    "#C. Interval Scale (Quantitative)\n",
    "    #Definition: Numeric scale with equal intervals between values but no true zero.\n",
    "    #Characteristics:\n",
    "        #You can add and subtract values.\n",
    "        #Zero does not mean absence of value.\n",
    "    #Examples:\n",
    "        #Temperature in Celsius or Fahrenheit (0°C ≠ no temperature)\n",
    "        #Dates in calendar (2000, 2020, etc.)\n",
    "#D. Ratio Scale (Quantitative)\n",
    "    #Definition: Numeric scale with equal intervals and a true zero point.\n",
    "    #Characteristics:\n",
    "        #You can add, subtract, multiply, and divide values.\n",
    "        #Zero means the absence of the quantity.\n",
    "    #Examples:\n",
    "        #Weight: 0 kg means no weight\n",
    "        #Height: 0 cm means no height\n",
    "        #Income: $0 means no income"
   ]
  },
  {
   "cell_type": "code",
   "execution_count": 22,
   "id": "9a93c839-8d7b-4960-8a73-9964d667ff7d",
   "metadata": {},
   "outputs": [],
   "source": [
    "#Q2. What are the measures of central tendency, and when should you use each? Discuss the mean, median,  and mode with examples and situations where each is appropriate.\n",
    "#ANS.\n",
    "#Measures of Central Tendency :\n",
    "#1. Mean (Arithmetic Average)\n",
    "    #Definition: The sum of all values divided by the number of values.\n",
    "    #Formula:"
   ]
  },
  {
   "attachments": {
    "6d0c15f2-879d-498b-9122-ce80487627c9.png": {
     "image/png": "[encoded data removed]"
    }
   },
   "cell_type": "markdown",
   "id": "1d447b6e-e38c-4884-b953-98046aa06c4e",
   "metadata": {},
   "source": [
    "![Screenshot 2025-04-08 164141.png](attachment:6d0c15f2-879d-498b-9122-ce80487627c9.png)"
   ]
  },
  {
   "cell_type": "code",
   "execution_count": 25,
   "id": "a297fbc1-37e8-4613-8823-4ebce18c923b",
   "metadata": {},
   "outputs": [],
   "source": [
    "    #Example:\n",
    "        #Test scores: 70, 80, 90\n",
    "        #Mean = (70 + 80 + 90) / 3 = 240 / 3 = 80\n",
    "    #When to Use:\n",
    "        #When data is quantitative and symmetrically distributed (no extreme outliers).\n",
    "        #Best for interval or ratio level data.\n",
    "    #Not Ideal When:\n",
    "        #There are outliers or skewed data, as they can distort the mean.\n",
    "#2. Median (Middle Value)\n",
    "    #Definition: The middle number when data is ordered.\n",
    "        #If the dataset has an odd number of values, the median is the middle one.\n",
    "        #If it has an even number, it’s the average of the two middle values.\n",
    "    #Example:\n",
    "        #Salaries: $30k, $35k, $40k, $100k\n",
    "        #Ordered: $30k, $35k, $40k, $100k → Median = (35k + 40k)/2 = $37.5k\n",
    "    #When to Use:\n",
    "        #When the data is skewed or has outliers.\n",
    "        #For ordinal, interval, or ratio data.\n",
    "    #Example Situation:\n",
    "        #Analyzing house prices or income levels where a few very high values might distort the mean.\n",
    "#3. Mode (Most Frequent Value)\n",
    "    #Definition: The value that appears most frequently in a dataset.\n",
    "        #A dataset may have:\n",
    "        #One mode (unimodal),\n",
    "        #Two modes (bimodal),\n",
    "        #Or no mode if all values are unique.\n",
    "    #Example:\n",
    "        #Shoe sizes: 7, 8, 8, 9, 10\n",
    "        #Mode = 8\n",
    "        #When to Use:\n",
    "        #When identifying the most common item, especially with categorical data.\n",
    "        #Useful when data is nominal (like favorite color or brand).\n",
    "    #Example Situations:\n",
    "        #Finding the most sold product size.\n",
    "        #Discovering the most preferred brand in a survey."
   ]
  },
  {
   "cell_type": "code",
   "execution_count": null,
   "id": "8b73c3f4-9e0c-4806-a29f-995d326b541f",
   "metadata": {},
   "outputs": [],
   "source": [
    "#Q3. Explain the concept of dispersion. How do variance and standard deviation measure the spread of data?\n",
    "#ANS.\n",
    "#Dispersion\n",
    "    #Definition:\n",
    "        #Dispersion refers to how spread out the values in a dataset are.\n",
    "        #It tells us how much the data values vary from the average (mean).\n",
    "    #Why It Matters:\n",
    "        #Two datasets can have the same mean but very different spreads. Dispersion helps us understand the consistency or variability in the data.\n",
    "\n",
    "#Key Measures of Dispersion\n",
    "#There are several measures of dispersion, but the two most common are:\n",
    "#A. Variance (σ² or s²)\n",
    "    #Definition:\n",
    "        #The average of the squared differences from the mean.\n",
    "    #Formula (Population):"
   ]
  },
  {
   "attachments": {
    "9527ee30-3f43-409e-83c9-f147f10136ef.png": {
     "image/png": "[encoded data removed]"
    }
   },
   "cell_type": "markdown",
   "id": "e5a705cc-bcf6-4683-8b94-3fdf2c1dfc9b",
   "metadata": {},
   "source": [
    "![Screenshot 2025-04-08 164833.png](attachment:9527ee30-3f43-409e-83c9-f147f10136ef.png)"
   ]
  },
  {
   "cell_type": "code",
   "execution_count": null,
   "id": "691d53d1-4fb5-4081-b477-4850a5e419d3",
   "metadata": {},
   "outputs": [],
   "source": [
    "#Formula (Sample):"
   ]
  },
  {
   "attachments": {
    "b046ccc5-b4ea-4e37-a966-e81a155e49c4.png": {
     "image/png": "[encoded data removed]"
    }
   },
   "cell_type": "markdown",
   "id": "2136a67c-4aa3-4c6f-8f72-92eb3ebbb745",
   "metadata": {},
   "source": [
    "![Screenshot 2025-04-08 164912.png](attachment:b046ccc5-b4ea-4e37-a966-e81a155e49c4.png)"
   ]
  },
  {
   "cell_type": "code",
   "execution_count": null,
   "id": "e91f82c2-b6dc-4fe6-8754-6373050a4f3b",
   "metadata": {},
   "outputs": [],
   "source": [
    "#Example:\n",
    "#Data: 2, 4, 6\n",
    "#Mean = 4\n",
    "#Differences: (-2)², 0², 2² → 4, 0, 4\n",
    "#Variance = (4 + 0 + 4)/3 = 2.67\n",
    "#Interpretation:\n",
    "#A higher variance means data is more spread out.\n",
    "#B. Standard Deviation (σ or s)\n",
    "    #Definition:\n",
    "        #The square root of the variance. It brings the units back to the original scale of the data.\n",
    "    #Formula:"
   ]
  },
  {
   "attachments": {
    "ee590cd7-62c2-4572-9e87-a4c4d377886c.png": {
     "image/png": "[encoded data removed]"
    }
   },
   "cell_type": "markdown",
   "id": "66ee8dda-bafb-4fe0-b3b5-cdeca171577e",
   "metadata": {},
   "source": [
    "![Screenshot 2025-04-08 165037.png](attachment:ee590cd7-62c2-4572-9e87-a4c4d377886c.png)"
   ]
  },
  {
   "cell_type": "code",
   "execution_count": 30,
   "id": "f1b81ca7-79bd-45ad-919b-1e402198924d",
   "metadata": {},
   "outputs": [],
   "source": [
    "#From the example above:\n",
    "#Variance = 2.67 →\n",
    "#Standard Deviation = √2.67 ≈ 1.63\n",
    "#Interpretation:\n",
    "#Tells us, on average, how far data points are from the mean.\n",
    "#More intuitive than variance since it’s in the same unit as the data.\n",
    "\n",
    "#Comparison and Use :\n",
    "#Measure\t                        What It Tells Us\t                     Units\t                          Use Case\n",
    "#Variance\t                 Average of squared deviations\t              Squared unit\t         Useful for calculations, e.g., in regression\n",
    "#Standard Deviation\t         Average distance from the mean\t              Same as data\t         Easier to interpret in real terms\n",
    "\n",
    "#Real-Life Example:\n",
    "#Let’s say you have test scores for two classes:\n",
    "#Class A: 70, 72, 74, 76, 78 → Mean = 74, SD = small\n",
    "#Class B: 50, 60, 74, 88, 98 → Mean = 74, SD = large\n",
    "#Even though both have the same mean, Class B's scores are much more spread out — and that’s reflected in the higher standard deviation."
   ]
  },
  {
   "cell_type": "code",
   "execution_count": 32,
   "id": "b7a692e6-da04-4eca-bdac-9ec028b0ee70",
   "metadata": {},
   "outputs": [],
   "source": [
    "#Q4. What is a box plot, and what can it tell you about the distribution of data?\n",
    "#ANS.\n",
    "#Box Plot:\n",
    "#A box plot shows:\n",
    "    #The minimum value\n",
    "    #The first quartile (Q1) — 25th percentile\n",
    "    #The median (Q2) — 50th percentile\n",
    "    #The third quartile (Q3) — 75th percentile\n",
    "    #The maximum value\n",
    "    #Outliers, if any\n",
    "    #These five values together are called the five-number summary.\n",
    "\n",
    "#What Can a Box Plot Tell You?\n",
    "#1. Center of the data:\n",
    "    #Look at the median line inside the box\n",
    "#2. Spread of the data:\n",
    "    #Look at the length of the box (IQR) and the whiskers\n",
    "#3. Skewness:\n",
    "    #If the median is closer to the bottom or top of the box, the data is skewed.\n",
    "    #Closer to Q1 → Right-skewed (positive)\n",
    "    #Closer to Q3 → Left-skewed (negative)\n",
    "#. Outliers:\n",
    "    #Points outside the whiskers (typically 1.5 × IQR above Q3 or below Q1)\n",
    "\n",
    "#Example\n",
    "#Let’s say you have exam scores:\n",
    "#Box plot shows:\n",
    "    #Min = 45\n",
    "    #Q1 = 60\n",
    "    #Median = 70\n",
    "    #Q3 = 85\n",
    "    #Max = 95\n",
    "    #Outlier = 100\n",
    "#This tells you:\n",
    "    #Most students scored between 60 and 85.\n",
    "    #The median score is 70.\n",
    "    #There’s one very high outlier (100).\n",
    "    #The distribution is slightly right-skewed (higher scores stretched out).\n",
    "\n",
    "#When to Use a Box Plot :\n",
    "    #To compare distributions between different groups\n",
    "    #To identify outliers\n",
    "    #When you want a quick summary of the data distribution"
   ]
  },
  {
   "cell_type": "code",
   "execution_count": null,
   "id": "3bd7bf9b-2aca-4e6b-9ff8-50a6790024e1",
   "metadata": {},
   "outputs": [],
   "source": [
    "#Q5. Discuss the role of random sampling in making inferences about populations.\n",
    "#ANS.\n",
    "# What Is Random Sampling?\n",
    "    #Random sampling is a method of selecting a subset of individuals from a larger population, where every member has an equal chance of being chosen.\n",
    "    #It helps ensure the sample represents the population fairly — without bias.\n",
    "\n",
    "#Why Is Random Sampling Important in Inference?\n",
    "    #When we can’t study an entire population (which is usually the case), we study a sample and use that sample to make generalizations or inferences about the whole.\n",
    "    #But for those inferences to be accurate and unbiased, the sample must:\n",
    "    #Reflect the population's diversity\n",
    "    #Be free from selection bias\n",
    "    #That’s where random sampling comes in.\n",
    "\n",
    "#How It Supports Inference\n",
    "    #1. Reduces Bias\n",
    "        #Random selection means no particular group is intentionally or unintentionally favored.\n",
    "        #This increases the credibility of conclusions.\n",
    "\n",
    "    #2. Improves Representativeness\n",
    "        #Random samples tend to include a variety of traits found in the full population.\n",
    "        #More likely to reflect true population characteristics.\n",
    "\n",
    "    #3. Enables Use of Probability Theory\n",
    "        #Random sampling lets us use statistical tools like confidence intervals, hypothesis testing, and margin of error.\n",
    "\n",
    "#Example\n",
    "    #Let’s say a university wants to estimate the average GPA of its 10,000 students.\n",
    "    #Bad approach: Only surveying honors students (biased sample)\n",
    "    #Good approach: Randomly selecting 200 students from the entire student list (random sample)\n",
    "    #The random sample gives a more accurate average GPA and allows us to estimate the GPA for all 10,000 students with a confidence level.\n",
    "\n",
    "#Types of Random Sampling\n",
    "#Method\t              Description\n",
    "#Simple Random\t      Every individual has an equal chance\n",
    "#Systematic\t          Every k-th individual is selected\n",
    "#Stratified\t          Population is divided into subgroups (strata), and random samples are taken from each\n",
    "#Cluster\t          Randomly selecting entire groups (clusters), not individuals\n",
    "\n",
    "#What If Sampling Isn’t Random?\n",
    "    #Results can be misleading or biased\n",
    "    #Conclusions may not apply to the broader population\n",
    "    #Statistical inference becomes unreliable"
   ]
  },
  {
   "cell_type": "code",
   "execution_count": 34,
   "id": "ac47986d-09af-4c59-9e0a-5cef6a73a631",
   "metadata": {},
   "outputs": [],
   "source": [
    "#Q6. Explain the concept of skewness and its types. How does skewness affect the interpretation of data?\n",
    "#ANS.\n",
    "#What Is Skewness?\n",
    "    #Skewness refers to the asymmetry of a distribution.\n",
    "    #In a perfectly symmetrical distribution, the mean = median = mode.\n",
    "    #Skewness shows which direction the data is “pulled” or stretched.\n",
    "\n",
    "#Types of Skewness\n",
    "    #1. Symmetrical Distribution (No Skew)\n",
    "    #Mean ≈ Median ≈ Mode\n",
    "    #The distribution is balanced on both sides.\n",
    "    #Example: Heights of adult males (in a large enough group)\n",
    "\n",
    "    #2. Positive Skew (Right-Skewed)\n",
    "    #Tail is longer on the right side\n",
    "    #Mean > Median > Mode\n",
    "    #What it means:\n",
    "    #A few very high values pull the mean upward.\n",
    "    #Most data is clustered on the lower end.\n",
    "    #Example:\n",
    "    #Incomes: Most people earn average salaries, but a few billionaires pull up the mean.\n",
    "\n",
    "    #3. Negative Skew (Left-Skewed)\n",
    "    #Tail is longer on the left side\n",
    "    #Mean < Median < Mode\n",
    "    #What it means:\n",
    "    #A few very low values pull the mean downward.\n",
    "    #Most data is clustered on the higher end.\n",
    "    #Example:\n",
    "    #Exam scores when most students did well, but a few scored very low.\n",
    "\n",
    "#How Skewness Affects Data Interpretation\n",
    "      #Effect\t                                                             Explanation\n",
    "#Distorts the Mean\t                           The mean is sensitive to extreme values, so it moves toward the tail.\n",
    "#Median is More Reliable\t                   In skewed data, the median gives a better sense of the “typical” value.\n",
    "#Impacts Statistical Tests\t                   Many statistical tests (like t-tests) assume normality; skewed data may need transformation.\n",
    "#Affects Decision-Making\t                   In finance or quality control, ignoring skewness may lead to wrong conclusions.\n",
    "\n",
    "#Example in Real Life:\n",
    "    #Imagine a company analyzing employee salaries:\n",
    "    #Mean salary = $80,000\n",
    "    #Median salary = $50,000\n",
    "#This is a right-skewed distribution — a few high earners are pulling the mean up, and most employees earn below that."
   ]
  },
  {
   "cell_type": "code",
   "execution_count": null,
   "id": "68516f22-a1ed-4e61-be4a-d7f8845ce0e2",
   "metadata": {},
   "outputs": [],
   "source": [
    "#Q7. What is the interquartile range (IQR), and how is it used to detect outliers?\n",
    "#ANS.\n",
    "#What Is the Interquartile Range (IQR)?\n",
    "    #The IQR measures the spread of the middle 50% of a dataset.\n",
    "    #It’s the difference between the third quartile (Q3) and the first quartile (Q1).    \n",
    "    #Formula:\n",
    "             #IQR = 𝑄3−𝑄1\n",
    "    #IQR=Q3−Q1\n",
    "    #Q1 (25th percentile): 25% of the data falls below this point\n",
    "    #Q3 (75th percentile): 75% of the data falls below this point\n",
    "    \n",
    "#Example\n",
    "    #Data (ordered):\n",
    "    #10, 12, 14, 15, 16, 18, 20, 22, 25\n",
    "    #Q1 = 14\n",
    "    #Q3 = 22\n",
    "    #IQR = 22 − 14 = 8\n",
    "\n",
    "#How Is IQR Used to Detect Outliers?\n",
    "    #Outliers are values that fall significantly outside the typical range.\n",
    "\n",
    "#Rule of Thumb (Tukey’s Rule):\n",
    "    #Lower Bound = Q1 − 1.5 × IQR\n",
    "    #Upper Bound = Q3 + 1.5 × IQR\n",
    "#Any data point:\n",
    "    #Below the lower bound, or\n",
    "    #Above the upper bound\n",
    "    #is considered an outlier\n",
    "\n",
    "#Continuing the Example:\n",
    "    #IQR = 8\n",
    "    #1.5 × IQR = 12\n",
    "    #Lower Bound = 14 − 12 = 2\n",
    "    #Upper Bound = 22 + 12 = 34\n",
    "    #So, any value below 2 or above 34 is an outlier.\n",
    "\n",
    "#Why Use IQR for Outliers?\n",
    "    #Resistant to extreme values (unlike mean and standard deviation)\n",
    "    #Focuses on the middle 50% of data\n",
    "    #Works well for skewed distributions"
   ]
  },
  {
   "cell_type": "code",
   "execution_count": null,
   "id": "d1c3c92a-9729-4de9-9595-8858b545b6af",
   "metadata": {},
   "outputs": [],
   "source": [
    "#Q8. Discuss the conditions under which the binomial distribution is used.\n",
    "#ANS.\n",
    "#What Is the Binomial Distribution?\n",
    "    #The binomial distribution describes the probability of getting a certain number of successes in a fixed number of independent trials, where each trial has only two possible outcomes:\n",
    "    #Success or Failure\n",
    "\n",
    "#Conditions for Using the Binomial Distribution\n",
    "    #To use the binomial distribution, the following four conditions must be met:\n",
    "        #1. Fixed Number of Trials (n)\n",
    "            #The number of experiments or trials is set in advance.\n",
    "            #Example: Tossing a coin 10 times    \n",
    "        #2. Only Two Possible Outcomes\n",
    "            #Each trial has exactly two outcomes:    \n",
    "            #Success (e.g., heads, correct answer, win)    \n",
    "            #Failure (e.g., tails, wrong answer, loss)    \n",
    "            #You must be able to define what counts as a success.   \n",
    "        #3. Constant Probability of Success (p)\n",
    "            #The probability of success stays the same in each trial.   \n",
    "            #Example: Probability of heads in a fair coin toss = 0.5 in every toss.    \n",
    "        #4. Independent Trials\n",
    "            #Each trial is independent of the others.   \n",
    "            #The outcome of one trial does not affect the outcome of another.\n",
    "\n",
    "#Binomial Formula\n",
    "#If you want to calculate the probability of getting exactly k successes in n trials, you can use:"
   ]
  },
  {
   "attachments": {
    "d7898913-a92d-4226-b8e2-6e3690bcd248.png": {
     "image/png": "[encoded data removed]"
    }
   },
   "cell_type": "markdown",
   "id": "5a2d0e34-9f08-44f3-a8c4-3af32a2dae92",
   "metadata": {},
   "source": [
    "![Screenshot 2025-04-08 173026.png](attachment:d7898913-a92d-4226-b8e2-6e3690bcd248.png)"
   ]
  },
  {
   "cell_type": "code",
   "execution_count": 51,
   "id": "3a80ce84-0afe-4581-8cb5-10e38b6cbb45",
   "metadata": {},
   "outputs": [],
   "source": [
    "#Where:\n",
    "    #p = probability of success\n",
    "    #(1−p) = probability of failure"
   ]
  },
  {
   "cell_type": "code",
   "execution_count": 53,
   "id": "e6b5a20d-5c47-4ff1-a705-f511f828add5",
   "metadata": {},
   "outputs": [],
   "source": [
    "#Examples\n",
    "#Example 1: Coin Toss\n",
    "#Toss a fair coin 5 times\n",
    "#What’s the probability of getting exactly 3 heads?\n",
    "#Here:\n",
    "    #n = 5\n",
    "    #k = 3\n",
    "    #p = 0.5 (for heads)\n",
    "#Example 2: Multiple-Choice Quiz\n",
    "#A student guesses on 10 true/false questions"
   ]
  },
  {
   "cell_type": "code",
   "execution_count": null,
   "id": "031aee9a-feb1-4ef2-a744-0d8430e0279c",
   "metadata": {},
   "outputs": [],
   "source": [
    "#Q9. Explain the properties of the normal distribution and the empirical rule (68-95-99.7 rule).\n",
    "#ANS.\n",
    "#What Is the Normal Distribution?\n",
    "    #The normal distribution is a bell-shaped and symmetrical probability distribution that is extremely common in statistics and nature.\n",
    "\n",
    "#Key Properties of a Normal Distribution\n",
    "#Property\t                                                      Description\n",
    "       #Shape\t                                  Bell-shaped and symmetric around the mean\n",
    "#Mean = Median = Mode\t                          All three are located at the center of the distribution\n",
    "#Total Area = 1\t                                  The area under the curve equals 1 (or 100%)\n",
    "#Tails extend to infinity\t                      But never touch the horizontal axis\n",
    "#Defined by two parameters\t                      1. Mean (μ): location of the center\n",
    "#                                                 2. Standard deviation (σ): spread\n",
    "\n",
    "#What Is the Empirical Rule? (68-95-99.7 Rule)\n",
    "    #This rule tells us how data is distributed in a normal distribution when we move away from the mean:\n",
    "\n",
    "#Range\t                                                   Approximate % of Data\n",
    "#μ ± 1σ (within 1 standard deviation)\t                            68%\n",
    "#μ ± 2σ (within 2 standard deviations)\t                            95%\n",
    "#μ ± 3σ (within 3 standard deviations)\t                            99.7%\n",
    "\n",
    "#Example\n",
    "    #Let’s say test scores in a class are normally distributed with:\n",
    "        #Mean (μ) = 70\n",
    "        #Standard deviation (σ) = 10\n",
    "        #According to the empirical rule:\n",
    "        #68% of students scored between 60 and 80 (70 ± 10)\n",
    "        #95% scored between 50 and 90 (70 ± 2×10)\n",
    "        #99.7% scored between 40 and 100 (70 ± 3×10)\n",
    "\n",
    "#Why the Normal Distribution Matters\n",
    "    #It models many natural phenomena (e.g., height, IQ, blood pressure)\n",
    "    #It’s the foundation for many statistical tests and confidence intervals\n",
    "    #It helps identify outliers (values far from the mean)"
   ]
  },
  {
   "cell_type": "code",
   "execution_count": null,
   "id": "3e916f21-b990-42d9-956a-a3ecf62e2625",
   "metadata": {},
   "outputs": [],
   "source": [
    "#Q10. Provide a real-life example of a Poisson process and calculate the probability for a specific event.\n",
    "#ANS.\n",
    "#Real-Life Example: Customer Arrivals at a Store\n",
    "#Let’s say a small coffee shop observes that, on average, 5 customers arrive every 10 minutes. The arrivals follow a Poisson process (random, independent, constant average rate).\n",
    "\n",
    "#Question:\n",
    "#What is the probability that exactly 3 customers arrive in a 10-minute interval?\n",
    "\n",
    "#Poisson Distribution Formula"
   ]
  },
  {
   "attachments": {
    "af2b8df9-13e7-40d5-92ec-c13f3f4b42fb.png": {
     "image/png": "[encoded data removed]"
    }
   },
   "cell_type": "markdown",
   "id": "6ca1d348-90cb-4576-b977-e89c36399589",
   "metadata": {},
   "source": [
    "![Screenshot 2025-04-08 174210.png](attachment:af2b8df9-13e7-40d5-92ec-c13f3f4b42fb.png)"
   ]
  },
  {
   "cell_type": "code",
   "execution_count": null,
   "id": "087e41d8-2ac4-4ce6-b0b5-2a18aab69cff",
   "metadata": {},
   "outputs": [],
   "source": [
    "#Where:\n",
    "#X = number of events (e.g. customers arriving)\n",
    "#λ = average number of events in the interval (here, 5)\n",
    "#k = desired number of events (here, 3)\n",
    "#e≈2.718\n",
    "\n",
    "#Plug In the Values:\n",
    "#λ=5\n",
    "#k=3"
   ]
  },
  {
   "attachments": {
    "4c02c4c0-48fa-46cc-8457-08050186216a.png": {
     "image/png": "[encoded data removed]"
    }
   },
   "cell_type": "markdown",
   "id": "f48a8124-f486-4170-a1f3-844e022ef36d",
   "metadata": {},
   "source": [
    "![Screenshot 2025-04-08 174349.png](attachment:4c02c4c0-48fa-46cc-8457-08050186216a.png)"
   ]
  },
  {
   "cell_type": "code",
   "execution_count": 65,
   "id": "42deb980-7704-4dc0-94ad-ec9139a4b013",
   "metadata": {},
   "outputs": [],
   "source": [
    "# So, the probability that exactly 3 customers arrive in 10 minutes is approximately 0.1404, or 14.04%.\n",
    "\n",
    "#When to Use Poisson Distribution\n",
    "#The Poisson distribution is useful when:\n",
    "    #Events happen randomly and independently\n",
    "    #There’s a constant average rate\n",
    "    #Events are discrete and countable (e.g. emails per hour, accidents per day)"
   ]
  },
  {
   "cell_type": "code",
   "execution_count": 67,
   "id": "c1b4942c-9710-4025-aaae-6aef824faed5",
   "metadata": {},
   "outputs": [],
   "source": [
    "#Q11. Explain what a random variable is and differentiate between discrete and continuous random variables.\n",
    "#ANS.\n",
    "#What Is a Random Variable?\n",
    "    #A random variable is a variable that takes on numerical values based on the outcome of a random event.\n",
    "    #It’s a way to assign numbers to outcomes in a probability experiment.\n",
    "\n",
    "#Example: Rolling a Die\n",
    "    #Possible outcomes: {1, 2, 3, 4, 5, 6}\n",
    "    #Define a random variable X as the result of the roll\n",
    "    #Then, X can be 1, 2, 3, 4, 5, or 6\n",
    "\n",
    "#Types of Random Variables\n",
    "#Type\t                Description\t                                                                   Examples\n",
    "#Discrete\t            Takes countable values\t                                   Number of heads in 3 coin flips, # of students\n",
    "#Continuous\t            Takes infinite, measurable values over an interval\t       Height, weight, time, temperature\n",
    "\n",
    "#1. Discrete Random Variable\n",
    "    #Values are separate and distinct\n",
    "    #You can count them\n",
    "    #Often used in counting events\n",
    "\n",
    "#Examples:\n",
    "    #Number of phone calls received in an hour\n",
    "    #Number of goals scored in a match\n",
    "    #Number of defective items in a batch\n",
    "\n",
    "#Probability Distribution:\n",
    "    #Each possible value has a specific probability.\n",
    "\n",
    "#2. Continuous Random Variable\n",
    "    #Takes any value within a range (infinite possibilities)\n",
    "    #You measure them, not count\n",
    "    #Often used in physical measurements\n",
    "\n",
    "#Examples:\n",
    "    #Height of students in a class\n",
    "    #Time it takes to run 100m\n",
    "    #Temperature in a city\n",
    "\n",
    "#Probability Density Function (PDF):\n",
    "    #Individual values have zero probability\n",
    "    #We talk about the probability within an interval\n",
    "\n",
    "#Key Differences\n",
    "#Feature\t                                           Discrete\t                                                Continuous\n",
    "#Number of values\t                      Countable (finite or infinite)\t                      Uncountable (infinite within range)\n",
    "#Example\t                              Number of books\t                                      Weight of a book\n",
    "#Graph Type\t                              Bar graph\t                                              Smooth curve (bell curve, etc.)\n",
    "#Probability at exact value\t              Non-zero (e.g., P(X = 2) = 0.3)\t                      Zero (e.g., P(X = 2.1) = 0)"
   ]
  },
  {
   "cell_type": "code",
   "execution_count": 82,
   "id": "d78802d3-bfc0-47f1-9322-09c69e703e3c",
   "metadata": {},
   "outputs": [],
   "source": [
    "#Q12. Provide an example dataset, calculate both covariance and correlation, and interpret the results.\n",
    "#ANS.\n",
    "#Example Dataset\n",
    "#Let’s say we have the following data on the number of study hours and exam scores for 5 students:\n",
    "#Student\tStudy Hours (X)\tExam Score (Y)\n",
    "#A\t2\t65\n",
    "#B\t4\t70\n",
    "#C\t6\t75\n",
    "#D\t8\t85\n",
    "#E\t10\t95\n",
    "\n",
    "#Step 1: Find the Mean of X and Y"
   ]
  },
  {
   "attachments": {
    "e14bc21c-3121-4b4c-8419-4aedf2594ad1.png": {
     "image/png": "[encoded data removed]"
    }
   },
   "cell_type": "markdown",
   "id": "531a98e7-43da-4096-a881-9822adfa9054",
   "metadata": {},
   "source": [
    "![Screenshot 2025-04-08 175618.png](attachment:e14bc21c-3121-4b4c-8419-4aedf2594ad1.png)"
   ]
  },
  {
   "cell_type": "code",
   "execution_count": 85,
   "id": "f173fd04-ce83-4e57-8f97-c4eb3197d2ee",
   "metadata": {},
   "outputs": [],
   "source": [
    "#Step 2: Calculate Covariance\n",
    "#Covariance formula:"
   ]
  },
  {
   "attachments": {
    "1afa9d92-41dd-4970-a9b2-5b05539ae902.png": {
     "image/png": "[encoded data removed]"
    }
   },
   "cell_type": "markdown",
   "id": "16fc8292-8e85-4c25-9e8c-81e7b920f9e8",
   "metadata": {},
   "source": [
    "![Screenshot 2025-04-08 175717.png](attachment:1afa9d92-41dd-4970-a9b2-5b05539ae902.png)"
   ]
  },
  {
   "cell_type": "code",
   "execution_count": 88,
   "id": "2cd28dcf-c498-4864-ac9d-b9c1a379befd",
   "metadata": {},
   "outputs": [],
   "source": [
    "#Now compute each term:\n",
    "\n",
    "#X\tY\tX − 6\tY − 78\t(X−6)(Y−78)\n",
    "#2\t65\t-4\t-13\t52\n",
    "#4\t70\t-2\t-8\t16\n",
    "#6\t75\t0\t-3\t0\n",
    "#8\t85\t2\t7\t14\n",
    "#10\t95\t4\t17\t68\n",
    "\n",
    "#Sum of products:\n",
    "#52+16+0+14+68=150"
   ]
  },
  {
   "attachments": {
    "e3b29798-50c2-407f-9db4-1959e71d33ec.png": {
     "image/png": "[encoded data removed]"
    }
   },
   "cell_type": "markdown",
   "id": "1d15a4b1-074f-48c5-bc9a-73c81082180f",
   "metadata": {},
   "source": [
    "![Screenshot 2025-04-08 175811.png](attachment:e3b29798-50c2-407f-9db4-1959e71d33ec.png)"
   ]
  },
  {
   "cell_type": "code",
   "execution_count": 91,
   "id": "c4fd4c88-9f55-4a64-8ef3-fbca2265c2f4",
   "metadata": {},
   "outputs": [],
   "source": [
    "#Step 3: Calculate Correlation\n",
    "#Correlation formula:"
   ]
  },
  {
   "attachments": {
    "03332d7b-b159-4f00-a83a-f3d11c6ba6e6.png": {
     "image/png": "[encoded data removed]"
    }
   },
   "cell_type": "markdown",
   "id": "95405c24-c369-4fcc-955c-9f1e955aa35e",
   "metadata": {},
   "source": [
    "![Screenshot 2025-04-08 175902.png](attachment:03332d7b-b159-4f00-a83a-f3d11c6ba6e6.png)"
   ]
  },
  {
   "cell_type": "code",
   "execution_count": 94,
   "id": "16bbb2b9-17d9-4171-b769-f38d4a3dc613",
   "metadata": {},
   "outputs": [],
   "source": [
    "#We’ll calculate the standard deviations:\n",
    "#For X:"
   ]
  },
  {
   "attachments": {
    "b13418ef-f5f7-4824-9a66-28dc8fbc3f87.png": {
     "image/png": "[encoded data removed]"
    }
   },
   "cell_type": "markdown",
   "id": "f6a3978e-ebe3-4cac-aca3-62746ea232c9",
   "metadata": {},
   "source": [
    "![Screenshot 2025-04-08 175936.png](attachment:b13418ef-f5f7-4824-9a66-28dc8fbc3f87.png)"
   ]
  },
  {
   "cell_type": "code",
   "execution_count": 97,
   "id": "91f9dbc7-2038-47aa-9983-c2efe1d1b15a",
   "metadata": {},
   "outputs": [],
   "source": [
    "#For Y:"
   ]
  },
  {
   "attachments": {
    "efed9fa0-ef59-4fb7-bfe6-347842016220.png": {
     "image/png": "[encoded data removed]"
    }
   },
   "cell_type": "markdown",
   "id": "8c502570-db0c-493a-b515-ab9efc2e7ac3",
   "metadata": {},
   "source": [
    "![Screenshot 2025-04-08 180004.png](attachment:efed9fa0-ef59-4fb7-bfe6-347842016220.png)"
   ]
  },
  {
   "cell_type": "code",
   "execution_count": 100,
   "id": "bf33923a-ff2c-4f18-8bad-16d2ea109d7c",
   "metadata": {},
   "outputs": [],
   "source": [
    "#Correlation (r):"
   ]
  },
  {
   "attachments": {
    "29327cfd-78d0-4b3f-8439-f6ec0e8c3b5e.png": {
     "image/png": "[encoded data removed]"
    }
   },
   "cell_type": "markdown",
   "id": "4b3740b9-8f49-492e-84fd-e98cc54bbdb9",
   "metadata": {},
   "source": [
    "![image.png](attachment:29327cfd-78d0-4b3f-8439-f6ec0e8c3b5e.png)"
   ]
  },
  {
   "cell_type": "code",
   "execution_count": 103,
   "id": "fae4475b-29f0-4c96-868a-0c74ab13188a",
   "metadata": {},
   "outputs": [],
   "source": [
    "#Interpretation\n",
    "#Covariance = 30: This tells us that as study hours increase, exam scores also increase — but the magnitude is hard to interpret because it's unstandardized.\n",
    "#Correlation (r) ≈ 0.985:\n",
    "#Very strong positive linear relationship between study hours and exam scores.\n",
    "#The closer r is to +1, the stronger the positive correlation."
   ]
  },
  {
   "cell_type": "code",
   "execution_count": null,
   "id": "ee75045d-c093-4281-960e-a660efdd8edd",
   "metadata": {},
   "outputs": [],
   "source": []
  },
  {
   "cell_type": "code",
   "execution_count": null,
   "id": "4bee233a-adaf-4672-92c8-c97c2d93a189",
   "metadata": {},
   "outputs": [],
   "source": []
  },
  {
   "cell_type": "code",
   "execution_count": null,
   "id": "927d1912-6e13-436a-b04e-f083865e52e8",
   "metadata": {},
   "outputs": [],
   "source": []
  },
  {
   "cell_type": "code",
   "execution_count": null,
   "id": "c9d0a16b-e9a7-4fc6-a50b-64ae963174cf",
   "metadata": {},
   "outputs": [],
   "source": []
  }
 ],
 "metadata": {
  "kernelspec": {
   "display_name": "Python [conda env:base] *",
   "language": "python",
   "name": "conda-base-py"
  },
  "language_info": {
   "codemirror_mode": {
    "name": "ipython",
    "version": 3
   },
   "file_extension": ".py",
   "mimetype": "text/x-python",
   "name": "python",
   "nbconvert_exporter": "python",
   "pygments_lexer": "ipython3",
   "version": "3.12.7"
  }
 },
 "nbformat": 4,
 "nbformat_minor": 5
}
